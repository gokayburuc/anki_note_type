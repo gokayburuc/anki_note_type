{
  "nbformat": 4,
  "nbformat_minor": 0,
  "metadata": {
    "colab": {
      "name": "text_collector.ipynb",
      "provenance": [],
      "toc_visible": true,
      "authorship_tag": "ABX9TyM7ubIwF1Sj2dtQIguD5HJc",
      "include_colab_link": true
    },
    "kernelspec": {
      "name": "python3",
      "display_name": "Python 3"
    },
    "language_info": {
      "name": "python"
    }
  },
  "cells": [
    {
      "cell_type": "markdown",
      "metadata": {
        "id": "view-in-github",
        "colab_type": "text"
      },
      "source": [
        "<a href=\"https://colab.research.google.com/github/gokayburuc/anki_note_type/blob/master/text_collector.ipynb\" target=\"_parent\"><img src=\"https://colab.research.google.com/assets/colab-badge.svg\" alt=\"Open In Colab\"/></a>"
      ]
    },
    {
      "cell_type": "code",
      "execution_count": null,
      "metadata": {
        "id": "4upqPrtMVsHd"
      },
      "outputs": [],
      "source": [
        "from requests import get \n",
        "from bs4 import BeautifulSoup \n",
        "from pprint import pprint\n",
        "import pandas as pd"
      ]
    },
    {
      "cell_type": "code",
      "source": [
        "base_url = \"https://www.codingem.com/best-programming-websites/\" #@param {type:\"string\"}\n"
      ],
      "metadata": {
        "cellView": "form",
        "id": "QDp-rSHea36c"
      },
      "execution_count": null,
      "outputs": []
    },
    {
      "cell_type": "code",
      "source": [
        "bsobj = BeautifulSoup(get(base_url).content,'lxml')"
      ],
      "metadata": {
        "id": "aXnzhE8BbJ3D"
      },
      "execution_count": null,
      "outputs": []
    },
    {
      "cell_type": "markdown",
      "source": [
        "# LINK COLLECTOR "
      ],
      "metadata": {
        "id": "LpF9cowbbxO7"
      }
    },
    {
      "cell_type": "code",
      "source": [
        "links = bsobj.find_all('a', href = True)\n",
        "linklist = [link['href'] for link in links]\n",
        "fname=input('filename:\\n')\n",
        "with open(f'{fname}_pagelinks.csv','w') as wf:\n",
        "  for x in linklist:\n",
        "    print(x,file=wf)"
      ],
      "metadata": {
        "id": "yKUocQVobSD-",
        "colab": {
          "base_uri": "https://localhost:8080/"
        },
        "outputId": "e5c8c6ed-dd39-4d14-f81d-7309c2e52b7c"
      },
      "execution_count": null,
      "outputs": [
        {
          "name": "stdout",
          "output_type": "stream",
          "text": [
            "filename:\n",
            "codingem\n"
          ]
        }
      ]
    },
    {
      "cell_type": "code",
      "source": [
        "web_element = \"h2\" #@param {type:\"string\"}\n",
        "class_name = \"\" #@param {type:\"string\"}\n",
        "id_name = \"\" #@param {type:\"string\"}\n",
        "href = \"True\" #@param [\"True\", \"False\"]\n",
        "\n",
        "\n",
        "def Getter(*argv):\n",
        "  res = bsobj.find_all(argv)\n",
        "  for x in res:\n",
        "    print(x.text)\n",
        "\n",
        "  datalist = [x.text for x in res]\n",
        "  return datalist\n",
        "\n",
        "data = Getter(web_element, class_name, id_name)\n",
        "\n",
        "fname = input('FILENAME:\\n')\n",
        "with open(f'{fname}_target_list.csv','w') as wf:\n",
        "  for x in data:\n",
        "    print(x, file =wf)"
      ],
      "metadata": {
        "colab": {
          "base_uri": "https://localhost:8080/"
        },
        "id": "djU9sTiYblpm",
        "outputId": "1d9793fd-3e3a-45cc-93ae-fbde3eec5c8e"
      },
      "execution_count": null,
      "outputs": [
        {
          "name": "stdout",
          "output_type": "stream",
          "text": [
            "1. UDEMY\n",
            "2. PLURALSIGHT\n",
            "3. UDACITY\n",
            "4. CODECADEMY\n",
            "5. FREECODECAMP\n",
            "6. KHANACADEMY\n",
            "7. EDX\n",
            "8. COURSERA\n",
            "9. ONEMONTH\n",
            "10. THE ODIN PROJECT\n",
            "11. CODEAVENGERS\n",
            "12. TEAM TREEHOUSE\n",
            "13. CODEWARS\n",
            "14. ENVATOTUTS+\n",
            "15. SITEPOINT\n",
            "16. SOLOLEARN\n",
            "17. MEDIUM.COM\n",
            "18. CODE.ORG\n",
            "19. W3SCHOOLS\n",
            "20. CODERBYTE\n",
            "21. EDABIT\n",
            "22. SCRATCH 2.0\n",
            "23. BENTO\n",
            "24. AFTER HOURS PROGRAMMING\n",
            "25. UPSKILL\n",
            "26. BITDEGREE\n",
            "27. DASH BY GENERAL ASSEMBLY\n",
            "28. CODECONQUEST\n",
            "29. MIT OPENCOURSEWARE\n",
            "30. HACKR.IO\n",
            "31. CODEASY\n",
            "32. MDNWEBDOCS\n",
            "33. CODEGYM\n",
            "34. GEEKSFORGEEKS\n",
            "35. HACKERNOON\n",
            "36. CODEMENTOR\n",
            "37. LEARN BY GOOGLE DEVELOPERS\n",
            "38. YOUTUBE\n",
            "39. STACKOVERFLOW\n",
            "40. GITHUB\n",
            "41. CODINGEM\n",
            "42. CRUNCHZILLA\n",
            "43. TUTORIALSPOINT\n",
            "44. CODEHS\n",
            "45. CODINGBAT\n",
            "46. CODE4STARTUP\n",
            "47. CODE ABBEY\n",
            "48. CODECOMBAT\n",
            "49. THINKFUL\n",
            "50. PROGRAMIZ\n",
            "Conclusion\n",
            "Tools & Resources for Software Developers\n",
            "Share\n",
            "Artturi Jalli\n",
            "FILENAME:\n",
            "codingem\n"
          ]
        }
      ]
    },
    {
      "cell_type": "code",
      "source": [
        ""
      ],
      "metadata": {
        "id": "WTR1cMStdVX9"
      },
      "execution_count": null,
      "outputs": []
    }
  ]
}